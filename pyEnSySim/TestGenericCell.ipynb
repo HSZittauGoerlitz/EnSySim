{
 "metadata": {
  "language_info": {
   "codemirror_mode": {
    "name": "ipython",
    "version": 3
   },
   "file_extension": ".py",
   "mimetype": "text/x-python",
   "name": "python",
   "nbconvert_exporter": "python",
   "pygments_lexer": "ipython3",
   "version": "3.8.6-final"
  },
  "orig_nbformat": 2,
  "kernelspec": {
   "name": "python3",
   "display_name": "Python 3",
   "language": "python"
  }
 },
 "nbformat": 4,
 "nbformat_minor": 2,
 "cells": [
  {
   "cell_type": "code",
   "execution_count": null,
   "metadata": {},
   "outputs": [],
   "source": [
    "# Imports\n",
    "from BoundaryConditions.Simulation.SimulationData import getSimData\n",
    "from GenericModel.Design import generateGenericCell\n",
    "from GenericModel.PARAMETER import PBTYPES_NOW as pBTypes\n",
    "from SystemComponentsFast import simulate\n",
    "from PostProcesing import plots"
   ]
  },
  {
   "cell_type": "code",
   "execution_count": null,
   "metadata": {},
   "outputs": [],
   "source": [
    "# Parameter\n",
    "# time\n",
    "start = '01.01.2020'\n",
    "end = '01.01.2021'\n",
    "# agents\n",
    "nSepBSLagents = 100\n",
    "pAgricultureBSLsep = 0.7\n",
    "nBuildings = {'FSH': 505, 'REH': 1010, 'SAH': 680, 'BAH': 100}\n",
    "pAgents = {'FSH': 0.9, 'REH': 0.9, 'SAH': 0.85, 'BAH': 0.75}\n",
    "pPHHagents = {'FSH': 0.8, 'REH': 0.8, 'SAH': 0.6, 'BAH': 0.9}\n",
    "pAgriculture = {'FSH': 0.2, 'REH': 0.2, 'SAH': 0.0, 'BAH': 0.0}\n",
    "# district heating and PV\n",
    "pDHN = {'FSH': 0.07, 'REH': 0.07, 'SAH': 0.14, 'BAH': 0.14}\n",
    "pPVplants = 0.4\n",
    "# buildings are imported\n",
    "# environment\n",
    "region = \"East\""
   ]
  },
  {
   "cell_type": "code",
   "execution_count": null,
   "metadata": {},
   "outputs": [],
   "source": [
    "# prepare simulation\n",
    "nSteps, time, SLP_PHH, SLP_BSLa, SLP_BSLc, HWP, T, Eg = getSimData(start, end, region)"
   ]
  },
  {
   "cell_type": "code",
   "execution_count": null,
   "metadata": {},
   "outputs": [],
   "source": [
    "cell = generateGenericCell(nBuildings, pAgents,\n",
    "                           pPHHagents, pAgriculture,\n",
    "                           pDHN, pPVplants, pBTypes, \n",
    "                           nSepBSLagents, pAgricultureBSLsep,\n",
    "                           region, nSteps)"
   ]
  },
  {
   "cell_type": "code",
   "execution_count": null,
   "metadata": {},
   "outputs": [],
   "source": [
    "simulate(cell, nSteps, SLP_PHH, SLP_BSLa, SLP_BSLc, HWP, T, Eg)"
   ]
  },
  {
   "cell_type": "code",
   "execution_count": null,
   "metadata": {},
   "outputs": [],
   "source": [
    "plots.cellPowerBalance(cell, time)"
   ]
  },
  {
   "cell_type": "code",
   "execution_count": null,
   "metadata": {},
   "outputs": [],
   "source": [
    "plots.cellEnergyBalance(cell, time)"
   ]
  },
  {
   "cell_type": "code",
   "execution_count": null,
   "metadata": {},
   "outputs": [],
   "source": []
  }
 ]
}